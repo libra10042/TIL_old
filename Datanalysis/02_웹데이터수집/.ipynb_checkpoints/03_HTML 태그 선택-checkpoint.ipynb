{
 "cells": [
  {
   "cell_type": "code",
   "execution_count": 1,
   "metadata": {},
   "outputs": [],
   "source": [
    "import bs4"
   ]
  },
  {
   "cell_type": "markdown",
   "metadata": {},
   "source": [
    "### find_all \n",
    "\n",
    "조건에 맞는 태그들을 모두 가져온다(리스트로 반환)"
   ]
  },
  {
   "cell_type": "code",
   "execution_count": 14,
   "metadata": {},
   "outputs": [],
   "source": [
    "html = '''\n",
    "        <html>\n",
    "            <body>\n",
    "                <p class='a1'>p태그1</p>\n",
    "                <p class='a2' id='k1'>p태그2</p>\n",
    "                <p class='a1 a2'>p태그3</p>\n",
    "                <ul>\n",
    "                    <li class='a1'>li태그1</li>\n",
    "                    <li class='a2'>li태그2</li>\n",
    "                    <li class='a1 a2'>li태그3</li>\n",
    "                </ul>\n",
    "            </body>\n",
    "        </html>\n",
    "       '''"
   ]
  },
  {
   "cell_type": "code",
   "execution_count": 15,
   "metadata": {},
   "outputs": [],
   "source": [
    "soup = bs4.BeautifulSoup(html, 'lxml')"
   ]
  },
  {
   "cell_type": "code",
   "execution_count": 16,
   "metadata": {},
   "outputs": [
    {
     "name": "stdout",
     "output_type": "stream",
     "text": [
      "[<p class=\"a1\">p태그1</p>, <p class=\"a2\" id=\"k1\">p태그2</p>, <p class=\"a1 a2\">p태그3</p>]\n",
      "[<li class=\"a1\">li태그1</li>, <li class=\"a2\">li태그2</li>, <li class=\"a1 a2\">li태그3</li>]\n"
     ]
    }
   ],
   "source": [
    "# 문서내의 모든 p 태그를 가져온다.\n",
    "p_list = soup.find_all('p')\n",
    "print(p_list)\n",
    "\n",
    "# 문서내의 모든 li 태그들을 가져온다.\n",
    "li_list = soup.find_all('li')\n",
    "print(li_list)"
   ]
  },
  {
   "cell_type": "code",
   "execution_count": 17,
   "metadata": {},
   "outputs": [
    {
     "name": "stdout",
     "output_type": "stream",
     "text": [
      "[<p class=\"a1\">p태그1</p>, <p class=\"a1 a2\">p태그3</p>, <li class=\"a1\">li태그1</li>, <li class=\"a1 a2\">li태그3</li>]\n",
      "[<p class=\"a2\" id=\"k1\">p태그2</p>, <p class=\"a1 a2\">p태그3</p>, <li class=\"a2\">li태그2</li>, <li class=\"a1 a2\">li태그3</li>]\n"
     ]
    }
   ],
   "source": [
    "# 문서내에 class가 a1인 태그들을 모두 가져온다.\n",
    "a1_list = soup.find_all(class_='a1')\n",
    "print(a1_list)\n",
    "\n",
    "# 문서내에 class가 a2인 태그들을 모두 가져온다.\n",
    "a2_list = soup.find_all(class_='a2')\n",
    "print(a2_list)"
   ]
  },
  {
   "cell_type": "code",
   "execution_count": 18,
   "metadata": {},
   "outputs": [
    {
     "name": "stdout",
     "output_type": "stream",
     "text": [
      "[<p class=\"a2\" id=\"k1\">p태그2</p>]\n"
     ]
    }
   ],
   "source": [
    "# id가 k1인 태그를 가져온다.\n",
    "k1 = soup.find_all(id='k1')\n",
    "print(k1)"
   ]
  },
  {
   "cell_type": "code",
   "execution_count": 19,
   "metadata": {},
   "outputs": [
    {
     "name": "stdout",
     "output_type": "stream",
     "text": [
      "<p class=\"a1\">p태그1</p>\n",
      "<p class=\"a1\">p태그1</p>\n",
      "<p class=\"a2\" id=\"k1\">p태그2</p>\n"
     ]
    }
   ],
   "source": [
    "# 하나씩만 가져온다.\n",
    "p_tag = soup.find('p')\n",
    "a1_tag = soup.find(class_='a1')\n",
    "k1_tag = soup.find(id='k1')\n",
    "print(p_tag)\n",
    "print(a1_tag)\n",
    "print(k1_tag)"
   ]
  },
  {
   "cell_type": "code",
   "execution_count": null,
   "metadata": {},
   "outputs": [],
   "source": [
    "html = '''\n",
    "        <html>\n",
    "            <body>\n",
    "                <ul>\n",
    "                    <li>항목1</li>\n",
    "                    <li>항목2</li>\n",
    "                    <li>항목3</li>\n",
    "                </ul>\n",
    "                <ul>\n",
    "                    <li>항목4</li>\n",
    "                    <li>항목5</li>\n",
    "                    <li>항목6</li>\n",
    "                </ul>\n",
    "            </body>\n",
    "        </html>\n",
    "       '''"
   ]
  },
  {
   "cell_type": "code",
   "execution_count": null,
   "metadata": {},
   "outputs": [],
   "source": [
    "soup = bs4.BeautifulSoup(html, 'lxml')\n"
   ]
  },
  {
   "cell_type": "code",
   "execution_count": null,
   "metadata": {},
   "outputs": [],
   "source": []
  },
  {
   "cell_type": "code",
   "execution_count": null,
   "metadata": {},
   "outputs": [],
   "source": []
  }
 ],
 "metadata": {
  "kernelspec": {
   "display_name": "Python 3",
   "language": "python",
   "name": "python3"
  },
  "language_info": {
   "codemirror_mode": {
    "name": "ipython",
    "version": 3
   },
   "file_extension": ".py",
   "mimetype": "text/x-python",
   "name": "python",
   "nbconvert_exporter": "python",
   "pygments_lexer": "ipython3",
   "version": "3.7.4"
  }
 },
 "nbformat": 4,
 "nbformat_minor": 2
}
