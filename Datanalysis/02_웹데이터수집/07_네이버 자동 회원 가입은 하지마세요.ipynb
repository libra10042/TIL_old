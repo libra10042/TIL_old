{
 "cells": [
  {
   "cell_type": "code",
   "execution_count": 1,
   "metadata": {},
   "outputs": [
    {
     "name": "stdout",
     "output_type": "stream",
     "text": [
      "Requirement already satisfied: selenium in c:\\anaconda\\lib\\site-packages (3.141.0)\n",
      "Requirement already satisfied: urllib3 in c:\\anaconda\\lib\\site-packages (from selenium) (1.24.2)\n",
      "Note: you may need to restart the kernel to use updated packages.\n"
     ]
    }
   ],
   "source": [
    "pip install selenium"
   ]
  },
  {
   "cell_type": "code",
   "execution_count": 1,
   "metadata": {},
   "outputs": [],
   "source": [
    "from selenium import webdriver\n",
    "from selenium.webdriver.support.ui import Select"
   ]
  },
  {
   "cell_type": "code",
   "execution_count": 12,
   "metadata": {},
   "outputs": [],
   "source": [
    "# 웹드라이버 실행\n",
    "driver = webdriver.Chrome()"
   ]
  },
  {
   "cell_type": "code",
   "execution_count": 13,
   "metadata": {},
   "outputs": [],
   "source": [
    "# 네이버 사이트를 요청한다.\n",
    "driver.get('https://naver.com')"
   ]
  },
  {
   "cell_type": "code",
   "execution_count": 14,
   "metadata": {},
   "outputs": [],
   "source": [
    "# 회원가입을 클릭한다.\n",
    "a_tag = driver.find_element_by_css_selector('#account > div > div > a')\n",
    "a_tag.click()"
   ]
  },
  {
   "cell_type": "code",
   "execution_count": 15,
   "metadata": {},
   "outputs": [],
   "source": [
    "# 약관 동의\n",
    "checkbox_tag = driver.find_element_by_css_selector('#join_form > div.terms_p > p > span > label')\n",
    "checkbox_tag.click()\n",
    "\n",
    "agree_btn = driver.find_element_by_css_selector('#btnAgree')\n",
    "agree_btn.click()"
   ]
  },
  {
   "cell_type": "code",
   "execution_count": 16,
   "metadata": {},
   "outputs": [
    {
     "name": "stdout",
     "output_type": "stream",
     "text": [
      "인증번호를 입력해주세요 : 3345\n"
     ]
    }
   ],
   "source": [
    "# 정보입력\n",
    "input_id = driver.find_element_by_css_selector('#id')\n",
    "input_id.send_keys('owefjowefpew')\n",
    "\n",
    "input_pw1 = driver.find_element_by_css_selector('#pswd1')\n",
    "input_pw1.send_keys('Abc123zz!!')\n",
    "\n",
    "input_pw2 = driver.find_element_by_css_selector('#pswd2')\n",
    "input_pw2.send_keys('Abc123zz!!')\n",
    "\n",
    "input_name = driver.find_element_by_css_selector('#name')\n",
    "input_name.send_keys('윤재성')\n",
    "\n",
    "input_yy = driver.find_element_by_css_selector('#yy')\n",
    "input_yy.send_keys('1978')\n",
    "\n",
    "input_mm = driver.find_element_by_css_selector('#mm')\n",
    "select_tag = Select(input_mm)\n",
    "select_tag.select_by_value('12')\n",
    "\n",
    "input_dd = driver.find_element_by_css_selector('#dd')\n",
    "input_dd.send_keys('17')\n",
    "\n",
    "input_gender = driver.find_element_by_css_selector('#gender')\n",
    "select_tag2 = Select(input_gender)\n",
    "select_tag2.select_by_value('M')\n",
    "\n",
    "input_email = driver.find_element_by_css_selector('#email')\n",
    "input_email.send_keys('nury.applogin@gmail.com')\n",
    "\n",
    "input_phoneNo = driver.find_element_by_css_selector('#phoneNo')\n",
    "input_phoneNo.send_keys('01043950924')\n",
    "\n",
    "btn_send = driver.find_element_by_css_selector('#btnSend')\n",
    "btn_send.click()\n",
    "\n",
    "sms_code = input('인증번호를 입력해주세요 : ')\n",
    "\n",
    "auth_no = driver.find_element_by_css_selector('#authNo')\n",
    "auth_no.send_keys(sms_code)\n",
    "\n",
    "# 가입버튼~~ 절대~~ 네버~~ 주석풀지마세요~~~\n",
    "# btn_join = driver.find_element_by_css_selector('#btnJoin')\n",
    "# btn_join.click()"
   ]
  },
  {
   "cell_type": "code",
   "execution_count": null,
   "metadata": {},
   "outputs": [],
   "source": []
  },
  {
   "cell_type": "code",
   "execution_count": null,
   "metadata": {},
   "outputs": [],
   "source": []
  }
 ],
 "metadata": {
  "kernelspec": {
   "display_name": "Python 3",
   "language": "python",
   "name": "python3"
  },
  "language_info": {
   "codemirror_mode": {
    "name": "ipython",
    "version": 3
   },
   "file_extension": ".py",
   "mimetype": "text/x-python",
   "name": "python",
   "nbconvert_exporter": "python",
   "pygments_lexer": "ipython3",
   "version": "3.7.4"
  }
 },
 "nbformat": 4,
 "nbformat_minor": 2
}
