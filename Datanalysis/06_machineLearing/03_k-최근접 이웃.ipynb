{
 "cells": [
  {
   "cell_type": "markdown",
   "metadata": {},
   "source": [
    "# K-최근접 이웃\n",
    "\n",
    "가장 단순한 머신러닝 알고리즘\n",
    "\n",
    "훈련 데이터셋을 그냥 그대로 저장하는 것이 학습의 전부이다.\n",
    "\n",
    "새로운 데이터가 입력되면 그 데이터와 가장 가까운 위치의 데이터를 확인하여 결과를 예측한다.\n",
    "\n",
    "n_neighbors = 1\n",
    "\n",
    "<img src='1.png'/>\n",
    "\n",
    "n_neighbors = 3\n",
    "\n",
    "<img src='2.png'/>"
   ]
  },
  {
   "cell_type": "code",
   "execution_count": 2,
   "metadata": {},
   "outputs": [],
   "source": [
    "import pandas as pd\n",
    "from sklearn.model_selection import train_test_split\n",
    "from sklearn.neighbors import KNeighborsClassifier\n",
    "from sklearn.neighbors import KNeighborsRegressor"
   ]
  },
  {
   "cell_type": "code",
   "execution_count": 66,
   "metadata": {},
   "outputs": [
    {
     "name": "stdout",
     "output_type": "stream",
     "text": [
      "예측 정확도 : 1.0\n"
     ]
    }
   ],
   "source": [
    "# 데이터 읽어오기\n",
    "df1 = pd.read_csv('forge.csv')\n",
    "\n",
    "# 입력데이터와 결과 데이터로 분리한다.\n",
    "X = df1[['attr1', 'attr2']]\n",
    "y = df1['target']\n",
    "\n",
    "# 학습 데이터와 검증데이터를 8:2 비율로 나눈다.\n",
    "X_train, X_test, y_train, y_test = train_test_split(X, y)\n",
    "\n",
    "# 학습\n",
    "model = KNeighborsClassifier(n_neighbors=1)\n",
    "model.fit(X_train, y_train)\n",
    "\n",
    "# 검증\n",
    "r1 = model.score(X_test, y_test)\n",
    "print(f'예측 정확도 : {r1}')"
   ]
  },
  {
   "cell_type": "code",
   "execution_count": 129,
   "metadata": {},
   "outputs": [
    {
     "name": "stdout",
     "output_type": "stream",
     "text": [
      "예측 정확도 : 0.8881118881118881\n"
     ]
    }
   ],
   "source": [
    "# 데이터 읽어오기\n",
    "df1 = pd.read_csv('breast_cancer.csv')\n",
    "\n",
    "# target을 숫자로 변경한다.\n",
    "map1 = {\n",
    "    'benign' : 0,\n",
    "    'malignant' : 1\n",
    "}\n",
    "df1['target'] = df1['target'].map(map1)\n",
    "\n",
    "# 입력데이터와 결과 데이터로 분리한다.\n",
    "X = df1.drop(['target'], axis=1)\n",
    "y = df1['target']\n",
    "\n",
    "# 학습 데이터와 검증데이터를 8:2 비율로 나눈다.\n",
    "X_train, X_test, y_train, y_test = train_test_split(X, y)\n",
    "\n",
    "# 학습\n",
    "model = KNeighborsClassifier(n_neighbors=4)\n",
    "model.fit(X_train, y_train)\n",
    "\n",
    "# 검증\n",
    "r1 = model.score(X_test, y_test)\n",
    "print(f'예측 정확도 : {r1}')"
   ]
  },
  {
   "cell_type": "markdown",
   "metadata": {},
   "source": [
    "### 회귀"
   ]
  },
  {
   "cell_type": "code",
   "execution_count": 187,
   "metadata": {},
   "outputs": [
    {
     "name": "stdout",
     "output_type": "stream",
     "text": [
      "예측정확도 : 0.9051817322018322\n"
     ]
    }
   ],
   "source": [
    "df1 = pd.read_csv('wave.csv')\n",
    "# df1.head()\n",
    "\n",
    "X = df1['data'].values.reshape(-1, 1)\n",
    "y = df1['target'].values\n",
    "\n",
    "X_train, X_test, y_train, y_test = train_test_split(X, y)\n",
    "\n",
    "model = KNeighborsRegressor(n_neighbors=4)\n",
    "model.fit(X_train, y_train)\n",
    "\n",
    "r1 = model.score(X_test, y_test)\n",
    "print(f'예측정확도 : {r1}')"
   ]
  },
  {
   "cell_type": "code",
   "execution_count": 217,
   "metadata": {},
   "outputs": [
    {
     "name": "stdout",
     "output_type": "stream",
     "text": [
      "예측정확도 : 0.49815555857408134\n"
     ]
    }
   ],
   "source": [
    "df1 = pd.read_csv('boston.csv')\n",
    "# df1.head()\n",
    "\n",
    "X = df1.drop(['target'], axis=1).values\n",
    "y = df1['target'].values\n",
    "\n",
    "X_train, X_test, y_train, y_test = train_test_split(X, y)\n",
    "\n",
    "model = KNeighborsRegressor(n_neighbors=3)\n",
    "model.fit(X_train, y_train)\n",
    "\n",
    "r1 = model.score(X_test, y_test)\n",
    "print(f'예측정확도 : {r1}')"
   ]
  },
  {
   "cell_type": "markdown",
   "metadata": {},
   "source": [
    "### 장점\n",
    "- 이해하기 쉬운 모델\n",
    "- 자주 좋은 성능을 발휘하는 편이다.\n",
    "\n",
    "### 단점\n",
    "- 특성이 많아지면 속도가 느려진다.\n",
    "- 특성이 많아지면 성능이 저하된다."
   ]
  },
  {
   "cell_type": "code",
   "execution_count": null,
   "metadata": {},
   "outputs": [],
   "source": []
  }
 ],
 "metadata": {
  "kernelspec": {
   "display_name": "Python 3",
   "language": "python",
   "name": "python3"
  },
  "language_info": {
   "codemirror_mode": {
    "name": "ipython",
    "version": 3
   },
   "file_extension": ".py",
   "mimetype": "text/x-python",
   "name": "python",
   "nbconvert_exporter": "python",
   "pygments_lexer": "ipython3",
   "version": "3.7.4"
  }
 },
 "nbformat": 4,
 "nbformat_minor": 2
}
