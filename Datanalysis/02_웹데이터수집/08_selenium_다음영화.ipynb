{
 "cells": [
  {
   "cell_type": "code",
   "execution_count": 1,
   "metadata": {},
   "outputs": [],
   "source": [
    "from selenium import webdriver"
   ]
  },
  {
   "cell_type": "code",
   "execution_count": 2,
   "metadata": {},
   "outputs": [],
   "source": [
    "# 웹드라이버 로딩\n",
    "driver = webdriver.Chrome()"
   ]
  },
  {
   "cell_type": "code",
   "execution_count": 3,
   "metadata": {},
   "outputs": [],
   "source": [
    "# 요청\n",
    "driver.get('https://movie.daum.net/premovie/released')"
   ]
  },
  {
   "cell_type": "code",
   "execution_count": 4,
   "metadata": {},
   "outputs": [
    {
     "data": {
      "text/plain": [
       "[<selenium.webdriver.remote.webelement.WebElement (session=\"1124a5381a33dc8b30e3a6e99e5c3393\", element=\"185ced70-b022-4aca-a453-a0d3f8cb2d38\")>,\n",
       " <selenium.webdriver.remote.webelement.WebElement (session=\"1124a5381a33dc8b30e3a6e99e5c3393\", element=\"a8a54172-467b-4e72-994d-0afb3904af43\")>,\n",
       " <selenium.webdriver.remote.webelement.WebElement (session=\"1124a5381a33dc8b30e3a6e99e5c3393\", element=\"0a8a1619-a851-4f37-910b-64ba8fc39fa8\")>,\n",
       " <selenium.webdriver.remote.webelement.WebElement (session=\"1124a5381a33dc8b30e3a6e99e5c3393\", element=\"655f07ff-9647-497d-a091-69003a95f5fb\")>,\n",
       " <selenium.webdriver.remote.webelement.WebElement (session=\"1124a5381a33dc8b30e3a6e99e5c3393\", element=\"609f38a0-5a96-4222-8dc2-5b341d05066d\")>,\n",
       " <selenium.webdriver.remote.webelement.WebElement (session=\"1124a5381a33dc8b30e3a6e99e5c3393\", element=\"61f267de-10d7-4d34-8f48-72414d782685\")>,\n",
       " <selenium.webdriver.remote.webelement.WebElement (session=\"1124a5381a33dc8b30e3a6e99e5c3393\", element=\"8ee51996-c7c0-46c3-b871-cdde1a013a5d\")>,\n",
       " <selenium.webdriver.remote.webelement.WebElement (session=\"1124a5381a33dc8b30e3a6e99e5c3393\", element=\"9f904952-e994-4210-8ee2-16bd13342d0f\")>,\n",
       " <selenium.webdriver.remote.webelement.WebElement (session=\"1124a5381a33dc8b30e3a6e99e5c3393\", element=\"fbdf5347-98d4-42ed-abe9-8bc9a640d39f\")>,\n",
       " <selenium.webdriver.remote.webelement.WebElement (session=\"1124a5381a33dc8b30e3a6e99e5c3393\", element=\"714a8ced-1d58-4216-9226-ed32e12cd0f7\")>,\n",
       " <selenium.webdriver.remote.webelement.WebElement (session=\"1124a5381a33dc8b30e3a6e99e5c3393\", element=\"5dba3ca9-2684-4a9d-a1cb-ab4564f322ee\")>,\n",
       " <selenium.webdriver.remote.webelement.WebElement (session=\"1124a5381a33dc8b30e3a6e99e5c3393\", element=\"ea5e05dc-83e0-4b5d-9351-6857b8935588\")>,\n",
       " <selenium.webdriver.remote.webelement.WebElement (session=\"1124a5381a33dc8b30e3a6e99e5c3393\", element=\"60f6eb2e-6b3c-42f4-becd-35284efe895d\")>,\n",
       " <selenium.webdriver.remote.webelement.WebElement (session=\"1124a5381a33dc8b30e3a6e99e5c3393\", element=\"77047e5d-f668-4f58-b385-6a26e9c24644\")>,\n",
       " <selenium.webdriver.remote.webelement.WebElement (session=\"1124a5381a33dc8b30e3a6e99e5c3393\", element=\"8d8e1d5a-b54d-45dd-b05d-cdbbf458879c\")>,\n",
       " <selenium.webdriver.remote.webelement.WebElement (session=\"1124a5381a33dc8b30e3a6e99e5c3393\", element=\"4238091a-b4a3-4e61-aa6f-ab672c388273\")>,\n",
       " <selenium.webdriver.remote.webelement.WebElement (session=\"1124a5381a33dc8b30e3a6e99e5c3393\", element=\"0766d829-3744-4491-a2e6-52defe0debad\")>,\n",
       " <selenium.webdriver.remote.webelement.WebElement (session=\"1124a5381a33dc8b30e3a6e99e5c3393\", element=\"fb5a9dda-0873-4e70-b81f-ab8e80235a5f\")>,\n",
       " <selenium.webdriver.remote.webelement.WebElement (session=\"1124a5381a33dc8b30e3a6e99e5c3393\", element=\"2b5be136-2948-4a29-843f-f5e44d95c32c\")>,\n",
       " <selenium.webdriver.remote.webelement.WebElement (session=\"1124a5381a33dc8b30e3a6e99e5c3393\", element=\"90da8e60-7cea-4abe-b8a6-b13f5fa9e819\")>]"
      ]
     },
     "execution_count": 4,
     "metadata": {},
     "output_type": "execute_result"
    }
   ],
   "source": [
    "# 영화 목록들을 가져온다.\n",
    "li_list = driver.find_elements_by_css_selector('#mArticle > ul.list_movie.\\#movie > li')\n",
    "li_list"
   ]
  },
  {
   "cell_type": "code",
   "execution_count": 5,
   "metadata": {},
   "outputs": [],
   "source": [
    "# li 태그의 수 만큼 반복문을 돌린다.\n",
    "data_dic = {\n",
    "    'name' : [],\n",
    "    'point' : [],\n",
    "    'date' : [],\n",
    "    'percent' : []\n",
    "}\n",
    "\n",
    "for li_tag in li_list :\n",
    "    name_tag = li_tag.find_element_by_css_selector('div.wrap_movie > div > a')\n",
    "    point_tag = li_tag.find_elements_by_css_selector('div.wrap_movie > span.info_grade > a > span.wrap_grade.grade_netizen > span.num_grade')\n",
    "    date_tag = li_tag.find_element_by_css_selector('div.wrap_movie > span.info_state')\n",
    "    \n",
    "    # print(name_tag.text)\n",
    "    # print(point_tag[0].text)\n",
    "    # print(point_tag[1].text)\n",
    "    # print(point_tag[2].text)\n",
    "    # print(date_tag.text.split())\n",
    "    # print('-------------------------------')\n",
    "    \n",
    "    name_value = name_tag.text.strip()\n",
    "    point_value = f'{point_tag[0].text}.{point_tag[2].text}'\n",
    "    date_value = date_tag.text.split()[0]\n",
    "    percent_value = date_tag.text.split()[4][:-1]\n",
    "    \n",
    "    # print(name_value, point_value, date_value, percent_value)\n",
    "    \n",
    "    data_dic['name'].append(name_value)\n",
    "    data_dic['point'].append(point_value)\n",
    "    data_dic['date'].append(date_value)\n",
    "    data_dic['percent'].append(percent_value)"
   ]
  },
  {
   "cell_type": "code",
   "execution_count": 6,
   "metadata": {
    "scrolled": true
   },
   "outputs": [
    {
     "name": "stdout",
     "output_type": "stream",
     "text": [
      "저장완료\n"
     ]
    }
   ],
   "source": [
    "import pandas\n",
    "\n",
    "df1 = pandas.DataFrame.from_dict(data_dic)\n",
    "df1.to_csv('daum_movie.csv', encoding='utf-8-sig', index=False)\n",
    "print('저장완료')"
   ]
  },
  {
   "cell_type": "code",
   "execution_count": null,
   "metadata": {},
   "outputs": [],
   "source": []
  },
  {
   "cell_type": "code",
   "execution_count": null,
   "metadata": {},
   "outputs": [],
   "source": []
  }
 ],
 "metadata": {
  "kernelspec": {
   "display_name": "Python 3",
   "language": "python",
   "name": "python3"
  },
  "language_info": {
   "codemirror_mode": {
    "name": "ipython",
    "version": 3
   },
   "file_extension": ".py",
   "mimetype": "text/x-python",
   "name": "python",
   "nbconvert_exporter": "python",
   "pygments_lexer": "ipython3",
   "version": "3.7.4"
  }
 },
 "nbformat": 4,
 "nbformat_minor": 2
}
